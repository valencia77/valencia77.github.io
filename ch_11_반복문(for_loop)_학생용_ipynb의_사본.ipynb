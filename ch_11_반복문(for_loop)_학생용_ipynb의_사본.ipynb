{
  "nbformat": 4,
  "nbformat_minor": 0,
  "metadata": {
    "language_info": {
      "name": "python",
      "version": "3.7.6",
      "mimetype": "text/x-python",
      "codemirror_mode": {
        "name": "ipython",
        "version": 3
      },
      "pygments_lexer": "ipython3",
      "nbconvert_exporter": "python",
      "file_extension": ".py"
    },
    "kernelspec": {
      "name": "python3",
      "display_name": "Python 3",
      "language": "python"
    },
    "colab": {
      "name": "ch#11_반복문(for loop)_학생용.ipynb의 사본",
      "provenance": [],
      "include_colab_link": true
    }
  },
  "cells": [
    {
      "cell_type": "markdown",
      "metadata": {
        "id": "view-in-github",
        "colab_type": "text"
      },
      "source": [
        "<a href=\"https://colab.research.google.com/github/valencia77/valencia77.github.io/blob/master/ch_11_%E1%84%87%E1%85%A1%E1%86%AB%E1%84%87%E1%85%A9%E1%86%A8%E1%84%86%E1%85%AE%E1%86%AB(for_loop)_%E1%84%92%E1%85%A1%E1%86%A8%E1%84%89%E1%85%A2%E1%86%BC%E1%84%8B%E1%85%AD%E1%86%BC_ipynb%EC%9D%98_%EC%82%AC%EB%B3%B8.ipynb\" target=\"_parent\"><img src=\"https://colab.research.google.com/assets/colab-badge.svg\" alt=\"Open In Colab\"/></a>"
      ]
    },
    {
      "cell_type": "markdown",
      "metadata": {
        "id": "h4jseYIXOv94"
      },
      "source": [
        "# 학습목표\n",
        "* <h3> <font color=blue><b> list, dictionary, range를 이해하고 사용할 수 있다.\n",
        "* <h3> <font color=blue><b> for와 리스트, 딕셔너리, range를 조합하는 방법을 이해한다.\n",
        "* <h3> <font color=blue><b> while 반복을 이해하고 사용할 수 있다.\n",
        "* <h3> <font color=blue><b> break, continue를 이해하고 사용할 수 있다.\n",
        "<hr>\n",
        "<h4> <font color=red> 핵심 키워드 : list, element(item), index, for loop"
      ]
    },
    {
      "cell_type": "markdown",
      "metadata": {
        "id": "8V8wUT_JveNF"
      },
      "source": [
        "# 시작하기 전에\n",
        "\n",
        "컴퓨터가 사람보다 월등히 뛰어난 능력이 있다면 그것은 바로 \"반복\".  \n",
        "지루해 하지도, 오류도 만들지도 않고, 능률도 유지한다.  \n",
        "프로그래밍요소중 가장 핵심적인 요소는 **조건, 반복, 함수**다. 그중에 반복!!!!   \n",
        "\n",
        "\n",
        "![istockphoto-139899524-170667a.jpg](attachment:2cc21de8-6212-4704-8272-9caf6d9ca274.jpg)\n",
        "\n",
        "1.   항목 추가\n",
        "2.   항목 추가\n",
        "\n",
        "\n",
        "\n",
        "![giIgRbm.jpg](attachment:4e66a8f4-da62-48f8-95ee-e4de35fc889b.jpg)"
      ]
    },
    {
      "cell_type": "markdown",
      "metadata": {
        "id": "TJ8INwW2wn4h"
      },
      "source": [
        "반복의 횟수가 정해져 있는지 유무에 따라-> for,while\n",
        "for=반복의 횟수가 정해져 있을때\n",
        "while= 반복의 횟수가 정해져 있지 않을 때 "
      ]
    },
    {
      "cell_type": "code",
      "metadata": {
        "trusted": true,
        "id": "0lu2VTcXveNG",
        "colab": {
          "base_uri": "https://localhost:8080/"
        },
        "outputId": "8d620ee1-1f3d-4839-e05b-436bc9670fe1"
      },
      "source": [
        "# hafs를 5번 출력하시오. 반복이 없다면?? 100번이면? 10,000,000번이면?\n",
        "\n",
        "print('hafs')\n",
        "print('hafs')\n",
        "print('hafs')\n",
        "print('hafs')\n",
        "print('hafs')"
      ],
      "execution_count": 1,
      "outputs": [
        {
          "output_type": "stream",
          "name": "stdout",
          "text": [
            "hafs\n",
            "hafs\n",
            "hafs\n",
            "hafs\n",
            "hafs\n"
          ]
        }
      ]
    },
    {
      "cell_type": "code",
      "metadata": {
        "trusted": true,
        "id": "516_d81jveNH"
      },
      "source": [
        "# print('hafs')를 100번 해야 한다면?\n",
        "\n",
        "\n"
      ],
      "execution_count": null,
      "outputs": []
    },
    {
      "cell_type": "code",
      "metadata": {
        "trusted": true,
        "id": "cjFdYR1LveNH"
      },
      "source": [
        "#for 반복문과 리스트\n",
        "\n",
        "\n"
      ],
      "execution_count": null,
      "outputs": []
    },
    {
      "cell_type": "code",
      "metadata": {
        "trusted": true,
        "id": "LC6S2EdTveNH"
      },
      "source": [
        "#for 반복문과 string\n",
        "\n",
        "\n"
      ],
      "execution_count": null,
      "outputs": []
    },
    {
      "cell_type": "code",
      "metadata": {
        "trusted": true,
        "id": "AJ741U3sveNI"
      },
      "source": [
        "'''\n",
        "총 5명의 학생이 시험을 보았는데 시험 점수가 60점이 넘으면 합격이고 \n",
        "그렇지 않으면 불합격이다. 번호와 결과를 보여주시오.\n",
        "합격, 불합격 몇명인지도 보여주시오.\n",
        "'''\n",
        "\n",
        "import random\n",
        "\n",
        "score=random.sample(range(100+1),5)\n",
        "print('만들어진 리스트 : ',score)\n",
        "print()\n",
        "\n",
        "\n"
      ],
      "execution_count": null,
      "outputs": []
    },
    {
      "cell_type": "markdown",
      "metadata": {
        "id": "PJGE-ow5veNI"
      },
      "source": [
        "* enumerate함수  \n",
        "반복문 사용 시 몇 번째 반복문인지 확인이 필요때 사용.  \n",
        "인덱스 번호와 컬렉션의 원소를 tuple형태로 반환"
      ]
    },
    {
      "cell_type": "code",
      "metadata": {
        "trusted": true,
        "id": "baDO61BpveNJ"
      },
      "source": [
        "#enumerate함수의 사용 예\n",
        "\n",
        "\n"
      ],
      "execution_count": null,
      "outputs": []
    },
    {
      "cell_type": "code",
      "metadata": {
        "trusted": true,
        "id": "lhvfkZD7veNJ"
      },
      "source": [
        "\n",
        "\n"
      ],
      "execution_count": null,
      "outputs": []
    },
    {
      "cell_type": "code",
      "metadata": {
        "trusted": true,
        "id": "Dqwk3e5iveNJ"
      },
      "source": [
        "\n",
        "\n"
      ],
      "execution_count": null,
      "outputs": []
    },
    {
      "cell_type": "code",
      "metadata": {
        "trusted": true,
        "id": "ScWKqx_uveNK"
      },
      "source": [
        "'''\n",
        "총 5명의 학생이 시험을 보았는데 시험 점수가 60점이 넘으면 합격이고 그렇지 않으면 불합격이다. \n",
        "번호별 합격,불합격 결과를 보여주시오.\n",
        "enumerate를 사용하면 좀 더 보기좋고, 간편해진다.\n",
        "'''\n",
        "\n",
        "import random\n",
        "\n",
        "score=random.sample(range(100+1),5)\n",
        "print('만들어진 리스트 : ',score)\n",
        "print()\n",
        "\n",
        "\n",
        "\n"
      ],
      "execution_count": null,
      "outputs": []
    },
    {
      "cell_type": "markdown",
      "metadata": {
        "id": "E-49OeOBveNK"
      },
      "source": [
        "# 2. range()\n",
        "\n",
        "The range() function returns a sequence of numbers, starting from 0 by default, and increments by 1 (by default), and stops before a specified number.  \n",
        "\n",
        "syntax\n",
        ">range(start, stop, step) \n",
        "\n",
        "Parameter Values\n",
        ">start : Optional. An integer number specifying at which position to start. Default is 0  \n",
        "stop  : Required. An integer number specifying at which position to stop (not included).  \n",
        "step : Optional. An integer number specifying the incrementation. Default is 1  \n",
        "\n",
        "for와 함께 많이 쓰는 함수.  \n",
        "특정한 횟수만큼 반복해서 돌리고 싶을 때 **for+range()**  \n",
        "\n",
        "* 0~n-1 까지 정수로 만드는 범위  \n",
        "range(n)\n",
        "\n",
        "* k~n-1 까지 정수로 만드는 범위  \n",
        "range(k,n)\n",
        "\n",
        "* k~n-1 까지 정수로 범위를 만드는데 앞뒤의 숫자가 m만큼의 차이를 가짐  \n",
        "range(k,n,m)\n",
        "---\n",
        "a = [0, 10, 20, 30, 40, 50, 60, 70, 80, 90] 일때  \n",
        "![image.png](attachment:1017da9c-b734-4f48-a0a2-adee8a2897bc.png)\n",
        "\n",
        "![image2.png](attachment:665e5ec3-c116-451c-99a2-68c01e6d3b8f.png)\n",
        "\n",
        "![image3.png](attachment:0edd5842-68b9-4e31-8079-f2a7233968c7.png)"
      ]
    },
    {
      "cell_type": "code",
      "metadata": {
        "trusted": true,
        "id": "paQRGo50veNK"
      },
      "source": [
        "# 여러가지 range()\n",
        "\n",
        "\n"
      ],
      "execution_count": null,
      "outputs": []
    },
    {
      "cell_type": "code",
      "metadata": {
        "trusted": true,
        "id": "VtivCyvjveNK"
      },
      "source": [
        "# 반대로 반복하기, reversed()\n",
        "\n",
        "\n"
      ],
      "execution_count": null,
      "outputs": []
    },
    {
      "cell_type": "markdown",
      "metadata": {
        "id": "TqiplzwaveNL"
      },
      "source": [
        "* ## C, java 배열에서의 반복문과의 비교\n",
        "\n",
        "C, JAVA에서는 값(value)로 순회하는 방법이 (기본적으로)없으므로 index로만 순회한다.(단 확장된 for문을 사용하는 가능은 함)   \n",
        "이에 비해 python은 두가지 방법 모두를 사용할 수 있다. 꼭 index가 필요한 상황이 아니라면 값(value)로 순회하는것이 더 쉽고 간편하다.  "
      ]
    },
    {
      "cell_type": "markdown",
      "metadata": {
        "id": "d_gPYeTJveNL"
      },
      "source": [
        "* <b> java에서 배열의 원소를 하나씩 순회할 때 index를 따라가면서 처리</b>  \n",
        "    \n",
        "~~~java\n",
        "ublic class Main {\n",
        "    public static void main(String[] args) {\n",
        "        int[] integers = new int[]{ 10, 20, 30, 40, 50, 60, 70, 80, 90, 100};\n",
        "\n",
        "        for (int index = 0;  index < integers.length; index++)  {\n",
        "\n",
        "            System.out.println(integers[index]);\n",
        "        }\n",
        "    }\n",
        "}\n",
        "~~~\n",
        "\n",
        "* <b> python에서 배열의 원소를 하나씩 순회할 때 값(value)을 따라가면서 처리</b>  \n",
        "~~~python\n",
        "data=[10, 20, 30, 40, 50, 60, 70, 80, 90, 100]\n",
        "for n in data:\n",
        "    print(n)\n",
        "~~~\n",
        "\n",
        "\n",
        "* <b> python에서 배열의 원소를 하나씩 순회할 때 index를 따라가면서 처리</b>  \n",
        "~~~python\n",
        "data=[10, 20, 30, 40, 50, 60, 70, 80, 90, 100]\n",
        "for i in range(len(data)):\n",
        "    print(data[i])\n",
        "~~~"
      ]
    }
  ]
}