{
  "nbformat": 4,
  "nbformat_minor": 0,
  "metadata": {
    "language_info": {
      "name": "python",
      "version": "3.7.6",
      "mimetype": "text/x-python",
      "codemirror_mode": {
        "name": "ipython",
        "version": 3
      },
      "pygments_lexer": "ipython3",
      "nbconvert_exporter": "python",
      "file_extension": ".py"
    },
    "kernelspec": {
      "name": "python3",
      "display_name": "Python 3",
      "language": "python"
    },
    "colab": {
      "name": "ch#08_DataType(List)_학생용.ipynb",
      "provenance": [],
      "include_colab_link": true
    }
  },
  "cells": [
    {
      "cell_type": "markdown",
      "metadata": {
        "id": "view-in-github",
        "colab_type": "text"
      },
      "source": [
        "<a href=\"https://colab.research.google.com/github/valencia77/valencia77.github.io/blob/master/ch_08_DataType(List)_%E1%84%92%E1%85%A1%E1%86%A8%E1%84%89%E1%85%A2%E1%86%BC%E1%84%8B%E1%85%AD%E1%86%BC.ipynb\" target=\"_parent\"><img src=\"https://colab.research.google.com/assets/colab-badge.svg\" alt=\"Open In Colab\"/></a>"
      ]
    },
    {
      "cell_type": "markdown",
      "metadata": {
        "id": "h4jseYIXOv94"
      },
      "source": [
        "# 학습목표\n",
        "* <h3> <font color=blue><b> list를 이해하고 사용할 수 있다.\n",
        "* <h3> <font color=blue><b> 리스트의 메소드를 알고 활용할 수 있다.\n",
        "\n",
        "<hr>\n",
        "<h4> <font color=red> 핵심 키워드 : list, element(item), index, for loop"
      ]
    },
    {
      "cell_type": "code",
      "metadata": {
        "id": "OTp-tJbcrod7"
      },
      "source": [
        "# single value vs. collections 한글\n",
        "\n"
      ],
      "execution_count": null,
      "outputs": []
    },
    {
      "cell_type": "markdown",
      "metadata": {
        "id": "V8tVC1EJrod8"
      },
      "source": [
        "# 시작하기 전에\n",
        "\n",
        "## Python Collections (Arrays)\n",
        "\n",
        "리스트란 무엇일까? 사전적 의미로 목록이다. 여러가지 자료를 저장할 수 있는 자료.<font color=red><b>(Collection)</b></font>  \n",
        "숫자, 문자등은 개별적인, 독립적인 하나의 '자료'였다면 리스트는 그런 자료들을 모아서 사용할 수 있게 해주는 특별한 형태의 자료.    \n",
        "\n",
        "\n",
        "<font color=blue> 파이썬에서 사용하는 가장 특징적이며, 강력한 데이터 타입.<br>\n",
        "리스트를 모르고서(사용하지 않고서) 파이썬을 사용한다 말하지 말라!!!</font>    \n",
        "\n",
        "## List : 파이썬을 파이썬 답게, Powerful but heavy\n",
        "* 파이썬을 할줄안다 == 리스트를 쓸 줄 안다  \n",
        "    * 파이썬을 잘 한다 == 리스트를 잘 쓴다  \n",
        "        * 리스트를 잘 쓴다 == 리스트 method를 잘 활용한다\n",
        "        \n",
        "        \n",
        "* #### 현실세계를  모델링하기에  좋은  도구\n",
        "한사람의 5개 과목 점수를 처리한다고 했을 때  \n",
        "~~~python\n",
        "subj1=90\n",
        "subj2=99\n",
        "...  \n",
        "subj5=100\n",
        "~~~\n",
        "보다는\n",
        "scores=[90, 99, 100,100, 100]  \n",
        "이 더 편리하고 처리하기도 수월하고 현실에 가깝다.  \n"
      ]
    },
    {
      "cell_type": "code",
      "metadata": {
        "trusted": true,
        "id": "qsmho6Uorod8"
      },
      "source": [
        "#파이썬의 모든 자료형이 리스트의 element(item, member, 요소)가 될 수 있다.\n",
        "\n",
        "\n"
      ],
      "execution_count": null,
      "outputs": []
    },
    {
      "cell_type": "markdown",
      "metadata": {
        "id": "__DZeShTrod8"
      },
      "source": [
        "# 1. 리스트 선언, 요소에 접근\n",
        "\n",
        "* 선언  \n",
        "[]에 자료를 심표로 구분해서 입력  \n",
        "ex) [1,2,3,'hafs','최종우']\n",
        "\n",
        "* 접근  \n",
        "인덱스로 접근 가능. 스트링의 인덱스와 동일. 단 요소단위로 접근.   "
      ]
    },
    {
      "cell_type": "code",
      "metadata": {
        "trusted": true,
        "id": "Vy9rPi8Xrod8"
      },
      "source": [
        "#리스트의 선언과 요소에 대한 접근\n",
        "\n",
        "\n"
      ],
      "execution_count": null,
      "outputs": []
    },
    {
      "cell_type": "code",
      "metadata": {
        "trusted": true,
        "id": "s1W1zwkvrod9"
      },
      "source": [
        "# list 안에 스트링이나 list같은 iterable 자료가 있는 경우\n",
        "\n",
        "\n",
        "\n"
      ],
      "execution_count": null,
      "outputs": []
    },
    {
      "cell_type": "markdown",
      "metadata": {
        "id": "olnkm5Vfrod9"
      },
      "source": [
        "# 2. 리스트 슬라이싱\n",
        "\n",
        "* 스트링의 slicing과 동일  "
      ]
    },
    {
      "cell_type": "code",
      "metadata": {
        "trusted": true,
        "id": "IGIFkuWVrod9"
      },
      "source": [
        "#리스트 슬라이싱\n",
        "\n",
        "\n"
      ],
      "execution_count": null,
      "outputs": []
    },
    {
      "cell_type": "markdown",
      "metadata": {
        "id": "1w3PWULrrod9"
      },
      "source": [
        "# 3. 리스트 연산자\n",
        "\n",
        "* +(연결)    \n",
        "리스트와 리스트의 연결  \n",
        "\n",
        "* *(반복)  \n",
        "리스트 * 숫자  \n",
        "\n",
        "* len()  \n",
        "리스트의 길이를 구한다."
      ]
    },
    {
      "cell_type": "code",
      "metadata": {
        "trusted": true,
        "id": "2YnBqrPBrod9"
      },
      "source": [
        "#리스트에서 사용되는 연산자\n",
        "\n",
        "\n"
      ],
      "execution_count": null,
      "outputs": []
    },
    {
      "cell_type": "code",
      "metadata": {
        "trusted": true,
        "id": "X8IV2qe-rod9"
      },
      "source": [
        "#리스트 연산자 실습\n",
        "\n",
        "\n"
      ],
      "execution_count": null,
      "outputs": []
    },
    {
      "cell_type": "markdown",
      "metadata": {
        "id": "4ZivGAJfrod9"
      },
      "source": [
        "# 4. <font color=red>리스트 메소드('Very'*100 Important)</font>\n",
        "-리스트를 활용한다는 것은 리스트의 메소드를 사용한다는것과 동일.  \n",
        "-메소드를 얼마나 잘 사용하느냐가 리스트 사용 실력, 나아가 파이썬의 실력을 결정한다.  \n",
        "-모두 11개의 메소드밖에 없음. 10개가 매우 쉬움  \n",
        "\n",
        "**append, clear, copy, count, extend, index, insert, pop, remove, reverse, sort**\n",
        " \n",
        "* append, clear, copy 는 수업시간에 설명  \n",
        "\n",
        "* count,extend,index,insert,pop,remove,reverse,sort 중에 임의로 5개 선정 후 수행평가  \n",
        "형식은 1학기 built-in 함수 수행평가와 동일함."
      ]
    },
    {
      "cell_type": "code",
      "metadata": {
        "trusted": true,
        "id": "fafXROU3rod9"
      },
      "source": [
        "print(dir(\"\"))"
      ],
      "execution_count": null,
      "outputs": []
    },
    {
      "cell_type": "code",
      "metadata": {
        "trusted": true,
        "id": "22eKlQBmrod-"
      },
      "source": [
        "print(dir([]))"
      ],
      "execution_count": null,
      "outputs": []
    },
    {
      "cell_type": "markdown",
      "metadata": {
        "id": "xd3T25mCrod-"
      },
      "source": [
        "### 4.1 append\n",
        "\n",
        "* 리스트의 제일 마지막에 요소 추가하기  \n",
        "> 리스트명.append(추가하려는 요소)  \n",
        "<font color=blue>append는 원래 리스트를 변화시킨다.</font>"
      ]
    },
    {
      "cell_type": "code",
      "metadata": {
        "trusted": true,
        "id": "dQXcbeBLrod-"
      },
      "source": [
        "help([].append)"
      ],
      "execution_count": null,
      "outputs": []
    },
    {
      "cell_type": "code",
      "metadata": {
        "trusted": true,
        "id": "LUrVk1fcrod-"
      },
      "source": [
        "#append method\n",
        "\n",
        "\n"
      ],
      "execution_count": null,
      "outputs": []
    },
    {
      "cell_type": "code",
      "metadata": {
        "trusted": true,
        "id": "vpuaqUjhrod-"
      },
      "source": [
        "# method호출결과 return의 유무를 아는것이 왜 중요한가?\n",
        "\n",
        "\n"
      ],
      "execution_count": null,
      "outputs": []
    },
    {
      "cell_type": "code",
      "metadata": {
        "trusted": true,
        "id": "9023DHrJrod-"
      },
      "source": [
        "#  empty list 생성 방법\n",
        "\n",
        "\n"
      ],
      "execution_count": null,
      "outputs": []
    },
    {
      "cell_type": "markdown",
      "metadata": {
        "id": "rnuq8VlSrod-"
      },
      "source": [
        "### 4.2 clear\n",
        "\n",
        "* 리스트의 요소를 모두 제거  \n",
        "> 리스트명.clear()  \n",
        "<font color=blue>clear는 원래 리스트를 변화시킨다.</font>"
      ]
    },
    {
      "cell_type": "code",
      "metadata": {
        "trusted": true,
        "id": "8wDzSc5Grod-"
      },
      "source": [
        "help([].clear)"
      ],
      "execution_count": null,
      "outputs": []
    },
    {
      "cell_type": "code",
      "metadata": {
        "trusted": true,
        "id": "BTWh_rAFrod-"
      },
      "source": [
        "#clear method\n",
        "\n",
        "\n"
      ],
      "execution_count": null,
      "outputs": []
    },
    {
      "cell_type": "markdown",
      "metadata": {
        "id": "d4zGhfr2rod_"
      },
      "source": [
        "### 4.3 copy\n",
        "\n",
        "* 리스트 복사\n",
        "> 리스트명.copy()    \n",
        "<font color=blue>shallow copy(얕은 복사)가 일어난다.</font>  \n",
        "    주소복사, shallow copy, deep copy 를 비교해서 알아두자.\n",
        "    \n",
        "[코드와 object의 변화를 실시간으로 살펴보기](http://pythontutor.com/live.html#mode=edit)"
      ]
    },
    {
      "cell_type": "code",
      "metadata": {
        "trusted": true,
        "id": "yoRnIkXDrod_"
      },
      "source": [
        "help([].copy)"
      ],
      "execution_count": null,
      "outputs": []
    },
    {
      "cell_type": "markdown",
      "metadata": {
        "id": "PVzXyIQ5rod_"
      },
      "source": [
        "## <font color=blue>주소복사</font>"
      ]
    },
    {
      "cell_type": "code",
      "metadata": {
        "trusted": true,
        "id": "Xs_aqVl9rod_"
      },
      "source": [
        "# 주소 복사 #1\n",
        "\n",
        "\n",
        "\n"
      ],
      "execution_count": null,
      "outputs": []
    },
    {
      "cell_type": "code",
      "metadata": {
        "trusted": true,
        "id": "lUguVbqZrod_"
      },
      "source": [
        "a=[1,2]\n",
        "b=a\n",
        "b.append(3)\n",
        "print(a)"
      ],
      "execution_count": null,
      "outputs": []
    },
    {
      "cell_type": "code",
      "metadata": {
        "trusted": true,
        "id": "KazjlDPTrod_"
      },
      "source": [
        "#주소복사#2\n",
        "\n",
        "\n"
      ],
      "execution_count": null,
      "outputs": []
    },
    {
      "cell_type": "markdown",
      "metadata": {
        "id": "Ds1g-kcTrod_"
      },
      "source": [
        "<hr>"
      ]
    },
    {
      "cell_type": "markdown",
      "metadata": {
        "id": "g0TZEbPgrod_"
      },
      "source": [
        "## <font color=blue>shallow copy</font>"
      ]
    },
    {
      "cell_type": "code",
      "metadata": {
        "trusted": true,
        "id": "tFXk6CcOrod_"
      },
      "source": [
        "# shallow copy(얕은 복사) #1 단순리스트\n",
        "\n",
        "\n"
      ],
      "execution_count": null,
      "outputs": []
    },
    {
      "cell_type": "code",
      "metadata": {
        "trusted": true,
        "id": "r_mWKlXproeA"
      },
      "source": [
        "# shallow copy(얕은 복사) #2 nested list\n",
        "\n",
        "\n"
      ],
      "execution_count": null,
      "outputs": []
    },
    {
      "cell_type": "code",
      "metadata": {
        "trusted": true,
        "id": "IwK88ZBgroeA"
      },
      "source": [
        "#  copy모듈의 copy()를 이용한 shallow copy(얕은 복사)  #1 단순 리스트\n",
        "\n",
        "\n"
      ],
      "execution_count": null,
      "outputs": []
    },
    {
      "cell_type": "code",
      "metadata": {
        "trusted": true,
        "id": "7IxsZMK3roeA"
      },
      "source": [
        "#  copy모듈의 copy()를 이용한 shallow copy(얕은 복사)  #2 nested list\n",
        "\n",
        "\n"
      ],
      "execution_count": null,
      "outputs": []
    },
    {
      "cell_type": "markdown",
      "metadata": {
        "id": "CyAo5sumroeA"
      },
      "source": [
        "<hr>"
      ]
    },
    {
      "cell_type": "markdown",
      "metadata": {
        "id": "4Uo5twBwroeA"
      },
      "source": [
        "## <font color=blue>deep copy</font>"
      ]
    },
    {
      "cell_type": "code",
      "metadata": {
        "trusted": true,
        "id": "4rPTUTI6roeA"
      },
      "source": [
        "# copy모듈의 copy()를 이용한 deep copy(깊은 복사) #1 단순 리스트\n",
        "\n",
        "\n"
      ],
      "execution_count": null,
      "outputs": []
    },
    {
      "cell_type": "code",
      "metadata": {
        "trusted": true,
        "id": "pHS8CHZEroeA"
      },
      "source": [
        "# copy모듈의 copy()를 이용한 deep copy(깊은 복사) #2 nested list\n",
        "\n",
        "\n"
      ],
      "execution_count": null,
      "outputs": []
    },
    {
      "cell_type": "code",
      "metadata": {
        "trusted": true,
        "id": "arJH7792roeA"
      },
      "source": [
        "# copy 메소드 이해 확인용\n",
        "\n",
        "\n"
      ],
      "execution_count": null,
      "outputs": []
    },
    {
      "cell_type": "code",
      "metadata": {
        "trusted": true,
        "id": "Bm37E8JZroeA"
      },
      "source": [
        "# deepcopy 메소드 이해 확인용\n",
        "\n",
        "\n"
      ],
      "execution_count": null,
      "outputs": []
    },
    {
      "cell_type": "code",
      "metadata": {
        "trusted": true,
        "id": "EZ58NvUBroeB"
      },
      "source": [
        "# deepcopy 메소드 이해 확인용\n",
        "\n",
        "\n"
      ],
      "execution_count": null,
      "outputs": []
    },
    {
      "cell_type": "markdown",
      "metadata": {
        "id": "yLsloz2_roeB"
      },
      "source": [
        "* **method 정리**  \n",
        "a.append(x) # a 끝에 x 추가 (a+=[x]와 동일)  \n",
        "a.extend([1,2]) # a 끝에 [1,2]의 모든 원소 추가 (a+=[1,2]와 동일)  \n",
        "a.insert(i, x) # a의 인덱스 i 자리에 x 끼워넣기 (a[i:i]=[x]와 동일)  \n",
        "a.remove(x) # a에서 첫번째 나오는 x 제거  \n",
        "a.pop() # a의 마지막 원소 제거 후 반환  \n",
        "a.pop(i) # a[i] 제거 후 반환  \n",
        "a.clear() # a=[]  \n",
        "a.index(x) # a에서 원소가 x인 첫 인덱스 반환  \n",
        "a.count(x) # a에서 x가 몇 개 있는지 반환  \n",
        "a.sort() # a를 오름차순으로 정렬  \n",
        "a.sort(reverse=True) # a를 내림차순으로 정렬  \n",
        "a.reverse() # a의 원소를 역순으로 재배치  \n",
        "b=a.copy() # b=a[:]  \n"
      ]
    },
    {
      "cell_type": "markdown",
      "metadata": {
        "id": "CJFHbW9VroeB"
      },
      "source": [
        "# 5. in/not in 연산자\n",
        "특정값이 리스트에 내부에 있는지 여부를 확인"
      ]
    },
    {
      "cell_type": "code",
      "metadata": {
        "trusted": true,
        "id": "b5LthQOiroeB"
      },
      "source": [
        "# in 연산자 \n",
        "\n",
        "\n"
      ],
      "execution_count": null,
      "outputs": []
    },
    {
      "cell_type": "code",
      "metadata": {
        "trusted": true,
        "id": "bEYnGKYXroeB"
      },
      "source": [
        "# not in 연산자 \n",
        "\n",
        "\n"
      ],
      "execution_count": null,
      "outputs": []
    },
    {
      "cell_type": "code",
      "metadata": {
        "trusted": true,
        "id": "YOgtAlGjroeB"
      },
      "source": [
        "print('h' in 'hafs')\n",
        "print(7 not in (1,2,3,4))"
      ],
      "execution_count": null,
      "outputs": []
    },
    {
      "cell_type": "markdown",
      "metadata": {
        "id": "1jPhqCCwroeB"
      },
      "source": [
        "# <font color=red> 6. 리스트 메소드 사용시 주의할 사항</font>\n",
        "\n",
        "* return 값의 유무를 아는것의 중요성  \n"
      ]
    },
    {
      "cell_type": "code",
      "metadata": {
        "trusted": true,
        "id": "nYwyD00NroeB"
      },
      "source": [
        "#다음 print의 결과는? 반드시 선짐작 후실행\n",
        "\n",
        "\n"
      ],
      "execution_count": null,
      "outputs": []
    },
    {
      "cell_type": "code",
      "metadata": {
        "trusted": true,
        "id": "JTMrVPwAroeB"
      },
      "source": [
        "#다음 print의 결과는? 반드시 선짐작 후실행\n",
        "\n",
        "\n"
      ],
      "execution_count": null,
      "outputs": []
    },
    {
      "cell_type": "markdown",
      "metadata": {
        "id": "Oyz5etX1roeB"
      },
      "source": [
        "* list modification, creation (혼돈하기 쉬우니 예제를 보면서 확실히 정리) \n"
      ]
    },
    {
      "cell_type": "code",
      "metadata": {
        "trusted": true,
        "id": "5q21omT2roeB"
      },
      "source": [
        "#다음 print의 결과는? 반드시 선짐작 후실행\n",
        "\n",
        "\n"
      ],
      "execution_count": null,
      "outputs": []
    },
    {
      "cell_type": "markdown",
      "metadata": {
        "id": "uODOk6ZvroeC"
      },
      "source": [
        "# 7 string과 list 사이의 변환\n"
      ]
    },
    {
      "cell_type": "code",
      "metadata": {
        "trusted": true,
        "id": "bn7cjo61roeC"
      },
      "source": [
        "#string to list #1\n",
        "\n",
        "\n"
      ],
      "execution_count": null,
      "outputs": []
    },
    {
      "cell_type": "code",
      "metadata": {
        "trusted": true,
        "id": "s7SWTAPFroeC"
      },
      "source": [
        "#string to list #2\n",
        "\n",
        "\n"
      ],
      "execution_count": null,
      "outputs": []
    },
    {
      "cell_type": "code",
      "metadata": {
        "trusted": true,
        "id": "yX2grT_TroeC"
      },
      "source": [
        "#list to string\n",
        "#string의 메소드인 join은 string으로만 구성된 list일때 정상 동작  \n",
        "\n",
        "\n"
      ],
      "execution_count": null,
      "outputs": []
    },
    {
      "cell_type": "code",
      "metadata": {
        "trusted": true,
        "id": "SdsMNfaWroeC"
      },
      "source": [
        "# join사용시 iterable이 어떤 타입이냐 점검\n",
        "\n",
        "\n"
      ],
      "execution_count": null,
      "outputs": []
    },
    {
      "cell_type": "markdown",
      "metadata": {
        "id": "XahibKLCroeC"
      },
      "source": [
        "<hr>\n",
        "\n",
        "# 리스트 메소드 설명"
      ]
    },
    {
      "cell_type": "markdown",
      "metadata": {
        "id": "9E6JS0vCroeC"
      },
      "source": [
        "## 4. count\n",
        "\n",
        "* 리스트 내 특정 요소의 개수 반환\b\n"
      ]
    },
    {
      "cell_type": "code",
      "metadata": {
        "trusted": true,
        "id": "FXJK__r4roeC"
      },
      "source": [
        "\n",
        "\n"
      ],
      "execution_count": null,
      "outputs": []
    },
    {
      "cell_type": "markdown",
      "metadata": {
        "id": "eaLj88PJroeC"
      },
      "source": [
        "## 5. extend\n",
        "\n",
        "* 리스트 병합, 리스트 + 리스트와 동일\n"
      ]
    },
    {
      "cell_type": "code",
      "metadata": {
        "trusted": true,
        "id": "3eFWLq0KroeC"
      },
      "source": [
        "\n",
        "\n"
      ],
      "execution_count": null,
      "outputs": []
    },
    {
      "cell_type": "markdown",
      "metadata": {
        "id": "mlDfTuxrroeD"
      },
      "source": [
        "## 6. index\n",
        "\n",
        "* 리스트의 특정 요소 검색, 첫번째 발견 되는 인덱스 반환, 요소가 없으면 오류"
      ]
    },
    {
      "cell_type": "code",
      "metadata": {
        "trusted": true,
        "id": "sezhlQ8_roeD"
      },
      "source": [
        "\n",
        "\n"
      ],
      "execution_count": null,
      "outputs": []
    },
    {
      "cell_type": "markdown",
      "metadata": {
        "id": "tEFWnDOUroeD"
      },
      "source": [
        "## 7. insert\n",
        "\n",
        "* 특정 위치에 요소 삽입\n"
      ]
    },
    {
      "cell_type": "code",
      "metadata": {
        "trusted": true,
        "id": "1sfiO3jLroeD"
      },
      "source": [
        "\n",
        "\n"
      ],
      "execution_count": null,
      "outputs": []
    },
    {
      "cell_type": "markdown",
      "metadata": {
        "id": "zejLRyRiroeD"
      },
      "source": [
        "## 8. pop\n",
        "\n",
        "* 마지막 요소 반환(출력) 후 삭제"
      ]
    },
    {
      "cell_type": "code",
      "metadata": {
        "trusted": true,
        "id": "Lm35QnKxroeD"
      },
      "source": [
        "\n",
        "\n"
      ],
      "execution_count": null,
      "outputs": []
    },
    {
      "cell_type": "markdown",
      "metadata": {
        "id": "2yJGANNfroeD"
      },
      "source": [
        "## 9. remove\n",
        "\n",
        "* 첫번째로 나오는 특정 요소 삭제"
      ]
    },
    {
      "cell_type": "code",
      "metadata": {
        "trusted": true,
        "id": "8JW7fITjroeD"
      },
      "source": [
        "\n",
        "\n"
      ],
      "execution_count": null,
      "outputs": []
    },
    {
      "cell_type": "markdown",
      "metadata": {
        "id": "_fAo_LVMroeD"
      },
      "source": [
        "## 10. reverse\n",
        "\n",
        "* 역순 출력\n"
      ]
    },
    {
      "cell_type": "code",
      "metadata": {
        "trusted": true,
        "id": "Dd5hE4emroeD"
      },
      "source": [
        "\n",
        "\n"
      ],
      "execution_count": null,
      "outputs": []
    },
    {
      "cell_type": "markdown",
      "metadata": {
        "id": "hQ5MYwZ0roeD"
      },
      "source": [
        "## 11. sort\n",
        "\n",
        "* 기본적으로 오름차순 정렬, 옵션에 따라 내림차순 정렬. Tim sort 알고리즘  \n",
        "\n",
        ">\n",
        "* TMI  \n",
        "python에서의 정렬 함수 sorted()와 list.sort()에 사용된 정렬 알고리즘은 Timsort, 팀정렬입니다.  \n",
        "팀정렬은 파이썬 핵심 개발자인 팀 피터스에 의해서 Cpython에서 처음으로 구현되었으며 2009년 이후 표준 자바 및 안드로이드, swift 등 여러 언어에서 사용되고 있습니다.  \n",
        "이는 데이터의 정렬된 정도에 따라 삽입정렬과 병합정렬 사이를 전환하는 적응형 알고리즘입니다. 두 정렬방법을 결합했기에 안정적이며, 추가 메모리는 사용하지만 기존의 병합정렬에 비해 적은 추가메모리를 사용하여 다른 O(nlogn) 정렬 알고리즘의 단점을 최대한 극복한 알고리즘입니다."
      ]
    },
    {
      "cell_type": "code",
      "metadata": {
        "trusted": true,
        "id": "Jq8xaDGiroeD"
      },
      "source": [
        "\n",
        "\n"
      ],
      "execution_count": null,
      "outputs": []
    }
  ]
}